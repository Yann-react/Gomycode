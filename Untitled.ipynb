{
 "cells": [
  {
   "cell_type": "code",
   "execution_count": 42,
   "id": "eadd6013-975f-467e-89d3-906feb06c36b",
   "metadata": {},
   "outputs": [
    {
     "name": "stdin",
     "output_type": "stream",
     "text": [
      "veillez entre votre code  10\n"
     ]
    },
    {
     "name": "stdout",
     "output_type": "stream",
     "text": [
      "code incorrecte\n"
     ]
    },
    {
     "name": "stdin",
     "output_type": "stream",
     "text": [
      "veillez entre votre code  10\n"
     ]
    },
    {
     "name": "stdout",
     "output_type": "stream",
     "text": [
      "code incorrecte\n"
     ]
    },
    {
     "name": "stdin",
     "output_type": "stream",
     "text": [
      "veillez entre votre code  000\n"
     ]
    }
   ],
   "source": [
    "code =0000\n",
    "trys= 0\n",
    "codeSaisir=int(input(\"veillez entre votre code \"))\n",
    "for trys in range (1 , 3 ) :\n",
    "    if code != codeSaisir  :\n",
    "        print(\"code incorrecte\")\n",
    "        trys +=1\n",
    "        codeSaisir=int(input(\"veillez entre votre code \"))\n",
    "    else :\n",
    "        print(\"bienvenu MR\")\n",
    "        break\n",
    "        \n"
   ]
  },
  {
   "cell_type": "code",
   "execution_count": null,
   "id": "9b3614eb-31f3-42e8-a124-7f29bd4412d2",
   "metadata": {},
   "outputs": [],
   "source": []
  },
  {
   "cell_type": "markdown",
   "id": "06befcab-97f5-4a1a-89f9-c89e08a68618",
   "metadata": {},
   "source": []
  },
  {
   "cell_type": "code",
   "execution_count": 4,
   "id": "6d0b58ba-a3bb-404f-9163-fc76cdcc3cec",
   "metadata": {},
   "outputs": [],
   "source": []
  },
  {
   "cell_type": "code",
   "execution_count": 5,
   "id": "6ee5679e-9a11-401f-8414-e56de8a16838",
   "metadata": {},
   "outputs": [
    {
     "name": "stdout",
     "output_type": "stream",
     "text": [
      "16\n"
     ]
    }
   ],
   "source": []
  },
  {
   "cell_type": "markdown",
   "id": "17167f42-1868-4b19-85ef-8542b40e8ac2",
   "metadata": {},
   "source": [
    "<h1>Ecrivez un prgrmmage pour demander a l'utilisateur de rentré un code et si le code correspond a celui qu'il a entrer on lui dit bienvenu Mr  sinon on llui dit code incorrect </h1>"
   ]
  },
  {
   "cell_type": "code",
   "execution_count": null,
   "id": "bc3a3c67-7423-489c-821c-9ae603de6ec1",
   "metadata": {},
   "outputs": [],
   "source": []
  }
 ],
 "metadata": {
  "kernelspec": {
   "display_name": "Python 3 (ipykernel)",
   "language": "python",
   "name": "python3"
  },
  "language_info": {
   "codemirror_mode": {
    "name": "ipython",
    "version": 3
   },
   "file_extension": ".py",
   "mimetype": "text/x-python",
   "name": "python",
   "nbconvert_exporter": "python",
   "pygments_lexer": "ipython3",
   "version": "3.11.7"
  }
 },
 "nbformat": 4,
 "nbformat_minor": 5
}
